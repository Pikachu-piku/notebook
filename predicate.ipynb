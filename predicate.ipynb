{
 "cells": [
  {
   "cell_type": "markdown",
   "metadata": {},
   "source": [
    "owns(jack, car(bmw)).\n",
    "owns(john, car(chevy)).\n",
    "owns(olivia, car(civic)).\n",
    "owns(jane, car(chevy)).\n",
    "sedan(car(bmw)).\n",
    "sedan(car(civic)).\n",
    "truck(car(chevy))."
   ]
  },
  {
   "cell_type": "code",
   "execution_count": null,
   "metadata": {},
   "outputs": [],
   "source": [
    "?- owns(Who, car(chevy)).\n",
    "Who = john ;\n",
    "Who = jane .\n",
    "// What does john own?\n",
    "\n",
    "\n",
    "?- owns(john, _ ).\n",
    "true.\n",
    "// Does john own something?\n",
    "\n",
    "?- owns(Who, car(chevy)).\n",
    "Who = john ;\n",
    "Who = jane .\n",
    "// Who owns car chevy?\n",
    "\n",
    "\n",
    "?- owns(jane, X), sedan(X). false.\n",
    "// Does jane own sedan?\n",
    "\n",
    "?- owns(jane, X), truck(X).\n",
    "X = car(chevy).\n",
    "// Does jane own truck?\n",
    "=================================\n",
    "owns(john,X)\n",
    "X = car(chevy)\n",
    "owns(john, _ ).\n",
    "true\n",
    "owns(Who, car(chevy)).\n",
    "Who = john\n",
    "Who = jane"
   ]
  },
  {
   "cell_type": "markdown",
   "metadata": {},
   "source": [
    "predicate rule for statement"
   ]
  },
  {
   "cell_type": "code",
   "execution_count": null,
   "metadata": {},
   "outputs": [],
   "source": [
    "likes(john, susie).                   /* John likes Susie */\n",
    "likes(X, susie).                      /* Everyone likes Susie */\n",
    "likes(john, Y).                       /* John likes everybody */\n",
    "likes(john, Y), likes(Y, john).       /* John likes everybody and everybody likes John */\n",
    "likes(john, susie); likes(john,mary). /* John likes Susie or John likes Mary */\n",
    "not(likes(john,pizza)).               /* John does not like pizza */\n",
    "likes(john,susie) :- likes(john,mary)./* John likes Susie if John likes Mary."
   ]
  },
  {
   "cell_type": "code",
   "execution_count": null,
   "metadata": {},
   "outputs": [],
   "source": [
    "likes(john, Y), likes(Y, john).       /* John likes everybody and everybody likes John */\n",
    "likes(X, susie).                      /* Everyone likes Susie */"
   ]
  },
  {
   "cell_type": "code",
   "execution_count": null,
   "metadata": {},
   "outputs": [],
   "source": [
    "legth og list"
   ]
  },
  {
   "cell_type": "code",
   "execution_count": null,
   "metadata": {},
   "outputs": [],
   "source": [
    "list_length([],0).\n",
    "list_length([_|TAIL],N) :- list_length(TAIL,N1), N is N1 + 1.\n",
    "    \n",
    "\n",
    "list_length([a,b,c,d,e,f,g,h,i,j],Len)."
   ]
  },
  {
   "cell_type": "code",
   "execution_count": null,
   "metadata": {},
   "outputs": [],
   "source": [
    "cube"
   ]
  },
  {
   "cell_type": "code",
   "execution_count": null,
   "metadata": {},
   "outputs": [],
   "source": [
    "cube :-\n",
    "   write('Write a number: '),\n",
    "   read(Number),\n",
    "   process(Number).\n",
    "process(stop) :- !.\n",
    "process(Number) :-\n",
    "   C is Number * Number * Number,\n",
    "   write('Cube of '),write(Number),write(': '),write(C),nl, cube.\n",
    "    \n",
    "-----------\n",
    "cube."
   ]
  },
  {
   "cell_type": "code",
   "execution_count": null,
   "metadata": {},
   "outputs": [],
   "source": [
    "Equality Operator (=:=)\n",
    "E1 =:= E2 \n",
    "    If E1 and E2 evaluate to the same value, the above E1 =:= E2 succeed.\n",
    "        \n",
    "        eg:\n",
    "            1+2=:=2+1"
   ]
  },
  {
   "cell_type": "code",
   "execution_count": null,
   "metadata": {},
   "outputs": [],
   "source": [
    "Unification (=)\n",
    "What is unification in Prolog?\n",
    "The way in which Prolog matches two terms is called unification. \n",
    "The idea is similar to that of unification in \n",
    "logic: we have two terms and we want to see if they can be made to represent the same structure\n",
    "    \n",
    "    eg:\n",
    "        location(apple, kitchen) = location(apple, X)."
   ]
  }
 ],
 "metadata": {
  "kernelspec": {
   "display_name": "Python 3 (ipykernel)",
   "language": "python",
   "name": "python3"
  },
  "language_info": {
   "codemirror_mode": {
    "name": "ipython",
    "version": 3
   },
   "file_extension": ".py",
   "mimetype": "text/x-python",
   "name": "python",
   "nbconvert_exporter": "python",
   "pygments_lexer": "ipython3",
   "version": "3.9.12"
  }
 },
 "nbformat": 4,
 "nbformat_minor": 1
}
